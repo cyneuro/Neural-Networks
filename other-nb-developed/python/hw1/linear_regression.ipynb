{
 "cells": [
  {
   "cell_type": "markdown",
   "id": "02bea3d9",
   "metadata": {},
   "source": [
    "# Problem 2 Linear regression notebook\n"
   ]
  },
  {
   "cell_type": "code",
   "execution_count": 1,
   "id": "51653d0d",
   "metadata": {},
   "outputs": [
    {
     "name": "stdout",
     "output_type": "stream",
     "text": [
      "Coefficients: \n",
      " [7.28544392]\n",
      "Mean squared error: 124.95\n",
      "Coefficient of determination: 0.33\n"
     ]
    },
    {
     "data": {
      "image/png": "[encoded data removed]",
      "text/plain": [
       "<Figure size 432x288 with 1 Axes>"
      ]
     },
     "metadata": {
      "needs_background": "light"
     },
     "output_type": "display_data"
    }
   ],
   "source": [
    "from sklearn.linear_model import LinearRegression\n",
    "from sklearn.model_selection import train_test_split\n",
    "from sklearn.preprocessing import StandardScaler\n",
    "from sklearn.metrics import mean_squared_error, r2_score\n",
    "import matplotlib.pyplot as plt\n",
    "import pandas as pd\n",
    "import numpy as np\n",
    "%matplotlib inline\n",
    "\n",
    "np.random.seed(123)\n",
    "\n",
    "df = pd.read_csv(\"MizzouGameData.csv\")\n",
    "\n",
    "df\n",
    "\n",
    "X = df[['3FGPCT']]\n",
    "\n",
    "y = df['PTS'] # target is what we are trying to predict\n",
    "\n",
    "X_train, X_test, y_train, y_test = train_test_split(X, y, test_size = 0.20) #split data\n",
    "\n",
    "scaler = StandardScaler()\n",
    "X_train = scaler.fit_transform(X_train)\n",
    "X_test = scaler.fit_transform(X_test)\n",
    "\n",
    "regression = LinearRegression().fit(X_train, y_train) # train model\n",
    "y_pred = regression.predict(X_test)\n",
    "\n",
    "\n",
    "# The coefficients\n",
    "print(\"Coefficients: \\n\", regression.coef_)\n",
    "# The mean squared error\n",
    "print(\"Mean squared error: %.2f\" % mean_squared_error(y_test, y_pred))\n",
    "# The coefficient of determination: 1 is perfect prediction\n",
    "print(\"Coefficient of determination: %.2f\" % r2_score(y_test, y_pred))\n",
    "\n",
    "plt.scatter(X_test, y_test, color=\"black\")\n",
    "plt.plot(X_test, y_pred, color=\"blue\", linewidth=3)\n",
    "plt.show()\n"
   ]
  },
  {
   "cell_type": "markdown",
   "id": "3a1cdb49",
   "metadata": {},
   "source": [
    "# Fit of model is not great but we are only using one feature so that is kinda expected "
   ]
  },
  {
   "cell_type": "code",
   "execution_count": null,
   "id": "5dc49304",
   "metadata": {},
   "outputs": [],
   "source": []
  }
 ],
 "metadata": {
  "kernelspec": {
   "display_name": "Python 3 (ipykernel)",
   "language": "python",
   "name": "python3"
  },
  "language_info": {
   "codemirror_mode": {
    "name": "ipython",
    "version": 3
   },
   "file_extension": ".py",
   "mimetype": "text/x-python",
   "name": "python",
   "nbconvert_exporter": "python",
   "pygments_lexer": "ipython3",
   "version": "3.9.7"
  }
 },
 "nbformat": 4,
 "nbformat_minor": 5
}
