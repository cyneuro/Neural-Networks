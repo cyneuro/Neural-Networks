{
 "cells": [
  {
   "cell_type": "code",
   "execution_count": null,
   "id": "af73b9f1",
   "metadata": {},
   "outputs": [],
   "source": [
    "x <- c(151, 174, 138, 186, 128, 136, 179, 163, 152, 131)\n",
    "y <- c(63, 81, 56, 91, 47, 57, 76, 72, 62, 48)\n",
    "\n",
    "relation <- lm(y~x)\n",
    "\n",
    "png(file = \"linearregression.png\")\n",
    "\n",
    "plot(y, x, col=\"blue\", main=\"Regression Line\", abline(lm(x~y)), cex=1.3,\n",
    "    pch=16, xlab=\"X Vars\", ylab=\"Y Vars\")\n"
   ]
  }
 ],
 "metadata": {
  "kernelspec": {
   "display_name": "R",
   "language": "R",
   "name": "ir"
  },
  "language_info": {
   "codemirror_mode": "r",
   "file_extension": ".r",
   "mimetype": "text/x-r-source",
   "name": "R",
   "pygments_lexer": "r",
   "version": "3.6.1"
  }
 },
 "nbformat": 4,
 "nbformat_minor": 5
}
