{
 "cells": [
  {
   "cell_type": "code",
   "execution_count": 11,
   "outputs": [],
   "source": [
    "RunningInCOLAB = 'google.colab' in str(get_ipython())\n",
    "\n",
    "if RunningInCOLAB:\n",
    "    !pip install torch, matplotlib, numpy, tqdm"
   ],
   "metadata": {
    "collapsed": false,
    "pycharm": {
     "name": "#%%\n"
    }
   }
  },
  {
   "cell_type": "markdown",
   "source": [
    "#### Notice of Ownership\n",
    "Based on Pete Canfield's Example designed in CS 8001 Nonlinear Systems"
   ],
   "metadata": {
    "collapsed": false,
    "pycharm": {
     "name": "#%% md\n"
    }
   }
  },
  {
   "cell_type": "code",
   "execution_count": 12,
   "outputs": [],
   "source": [
    "import numpy as np\n",
    "import torch\n",
    "import matplotlib.pyplot as plt\n",
    "from typing import Union"
   ],
   "metadata": {
    "collapsed": false,
    "pycharm": {
     "name": "#%%\n"
    }
   }
  },
  {
   "cell_type": "markdown",
   "metadata": {},
   "source": [
    "## General Idea\n",
    "\n",
    "Linear Regression is attempting to fit a linear equation to data as a line of best fit. This means we need both a training dataset as well as a testing dataset. For our use purposes, we have defined a simple ground truth function to prove our accuracy and derive the data from."
   ]
  },
  {
   "cell_type": "code",
   "execution_count": 13,
   "metadata": {},
   "outputs": [],
   "source": [
    "def ground_truth_function(x: Union[np.ndarray, float]) -> Union[np.ndarray, float]:\n",
    "    return 2*x+3 # A test function, you can change this to whatever you want.\n",
    "    \n",
    "def generate_data(start, stop, resolution, std=0.5):\n",
    "    x_values = np.linspace(start, stop, resolution)\n",
    "    signal = ground_truth_function(x_values)   \n",
    "    return x_values, signal, signal + np.random.normal(0, std, signal.shape)"
   ]
  },
  {
   "cell_type": "markdown",
   "metadata": {},
   "source": [
    "Now lets plot the training data."
   ]
  },
  {
   "cell_type": "code",
   "execution_count": 14,
   "metadata": {},
   "outputs": [],
   "source": [
    "def plot_data(x_values,regression,training_data):\n",
    "    plt.plot(x_values, regression, label='function')\n",
    "    plt.scatter(x_values, training_data, label='training data')\n",
    "    plt.legend()\n",
    "    plt.show()\n"
   ]
  },
  {
   "cell_type": "code",
   "execution_count": 15,
   "metadata": {},
   "outputs": [
    {
     "data": {
      "text/plain": "<Figure size 432x288 with 1 Axes>",
      "image/png": "[encoded data removed]"
     },
     "metadata": {
      "needs_background": "light"
     },
     "output_type": "display_data"
    }
   ],
   "source": [
    "#Generate some data to use for the rest of the notebook.\n",
    "data = generate_data(0,1,100)\n",
    "\n",
    "#Plot it.\n",
    "plot_data(data[0],data[1],data[2])"
   ]
  },
  {
   "cell_type": "markdown",
   "source": [
    "## Perceptron\n",
    "The key to understand here is that a single perceptron is able to represent a linear regression problem. Therefore we can take advantage of Pytorch's Linear layer model to make a linear regression example. Another way to do this is simply through the sklearn toolkit."
   ],
   "metadata": {
    "collapsed": false,
    "pycharm": {
     "name": "#%% md\n"
    }
   }
  },
  {
   "cell_type": "code",
   "execution_count": 16,
   "metadata": {},
   "outputs": [],
   "source": [
    "#Now implement a Perceptron\n",
    "import torch.nn as nn \n",
    "class Perceptron(nn.Module):\n",
    "    def __init__(self):\n",
    "        super().__init__()\n",
    "        self.node = nn.Linear(1,1)\n",
    "    \n",
    "    def forward(self, x):\n",
    "        return self.node(x)\n",
    "\n",
    "#Define the criteria function.\n",
    "def criterion(out,label):\n",
    "    return (label - out)**2"
   ]
  },
  {
   "cell_type": "code",
   "execution_count": 17,
   "metadata": {},
   "outputs": [
    {
     "name": "stderr",
     "output_type": "stream",
     "text": [
      "Training network: 100%|██████████| 1000/1000 [00:23<00:00, 43.02it/s]\n"
     ]
    }
   ],
   "source": [
    "#Now lets train the network.\n",
    "import torch.optim as optim\n",
    "from tqdm import tqdm\n",
    "perceptron = Perceptron()\n",
    "\n",
    "optimizer = optim.Adam(perceptron.parameters(), lr=1e-1)\n",
    "\n",
    "inputs, ground_truth, training = data\n",
    "\n",
    "#Now run the training loop.\n",
    "for epoch in tqdm(range(1000), desc='Training network'):\n",
    "    #Do one update for each sample.\n",
    "    for x,y in zip(inputs, training):\n",
    "\n",
    "        x = torch.tensor([x]).float() \n",
    "        y = torch.tensor([y]).float()\n",
    "\n",
    "        optimizer.zero_grad()\n",
    "        network_output = perceptron(x)\n",
    "        loss = criterion(network_output, y)\n",
    "        \n",
    "        \n",
    "        loss.backward()\n",
    "        optimizer.step()\n",
    "\n"
   ]
  },
  {
   "cell_type": "code",
   "execution_count": 18,
   "metadata": {},
   "outputs": [
    {
     "data": {
      "text/plain": "<Figure size 432x288 with 1 Axes>",
      "image/png": "[encoded data removed]"
     },
     "metadata": {
      "needs_background": "light"
     },
     "output_type": "display_data"
    }
   ],
   "source": [
    "#Now lets plot the found function.\n",
    "found_values = np.array([perceptron(torch.Tensor([inp]).float()).detach().numpy() for inp in inputs])\n",
    "plot_data(inputs, found_values, training)"
   ]
  },
  {
   "cell_type": "code",
   "execution_count": 18,
   "outputs": [],
   "source": [],
   "metadata": {
    "collapsed": false,
    "pycharm": {
     "name": "#%%\n"
    }
   }
  }
 ],
 "metadata": {
  "interpreter": {
   "hash": "c39a56979c16a739f084552c7eef0261ba07cfda256c0af7e4c1f0aee5464e33"
  },
  "kernelspec": {
   "display_name": "Python 3.8.1 64-bit",
   "name": "python3"
  },
  "language_info": {
   "codemirror_mode": {
    "name": "ipython",
    "version": 3
   },
   "file_extension": ".py",
   "mimetype": "text/x-python",
   "name": "python",
   "nbconvert_exporter": "python",
   "pygments_lexer": "ipython3",
   "version": "3.8.1"
  },
  "orig_nbformat": 4
 },
 "nbformat": 4,
 "nbformat_minor": 2
}